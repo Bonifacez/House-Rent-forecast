{
 "cells": [
  {
   "cell_type": "code",
   "execution_count": 1,
   "metadata": {},
   "outputs": [],
   "source": [
    "import xgboost as xgb\n",
    "import numpy as np\n",
    "import pandas as pd\n",
    "from sklearn.metrics import r2_score\n",
    "from sklearn.model_selection import KFold\n",
    "from hyperopt import hp, fmin, tpe, STATUS_OK, Trials\n",
    "import hyperopt\n",
    "from sklearn.model_selection import train_test_split,cross_val_score, StratifiedKFold\n",
    "from sklearn.metrics import make_scorer\n",
    "import colorama"
   ]
  },
  {
   "cell_type": "markdown",
   "metadata": {},
   "source": [
    "## 载入数据"
   ]
  },
  {
   "cell_type": "code",
   "execution_count": 2,
   "metadata": {
    "scrolled": true
   },
   "outputs": [
    {
     "name": "stderr",
     "output_type": "stream",
     "text": [
      "D:\\Anaconda3\\lib\\site-packages\\xgboost\\core.py:587: FutureWarning: Series.base is deprecated and will be removed in a future version\n",
      "  if getattr(data, 'base', None) is not None and \\\n",
      "D:\\Anaconda3\\lib\\site-packages\\xgboost\\core.py:588: FutureWarning: Series.base is deprecated and will be removed in a future version\n",
      "  data.base is not None and isinstance(data, np.ndarray) \\\n"
     ]
    }
   ],
   "source": [
    "X_train = pd.read_csv('C:/Users/Boniface/Desktop/房租预测/datasets/cluster_train.csv')\n",
    "Y_train = X_train.pop('tradeMoney')\n",
    "X_train.pop('Unnamed: 0')\n",
    "Train = xgb.DMatrix(X_train, label = Y_train)"
   ]
  },
  {
   "cell_type": "code",
   "execution_count": 20,
   "metadata": {
    "scrolled": true
   },
   "outputs": [
    {
     "name": "stdout",
     "output_type": "stream",
     "text": [
      "                                                                                                            \n",
      "XGB objective call #1 cur_best_score=0.00000\n",
      "  0%|                                                                | 0/10 [00:00<?, ?trial/s, best loss=?]"
     ]
    },
    {
     "name": "stderr",
     "output_type": "stream",
     "text": [
      "D:\\Anaconda3\\lib\\site-packages\\xgboost\\core.py:587: FutureWarning: Series.base is deprecated and will be removed in a future version\n",
      "  if getattr(data, 'base', None) is not None and \\\n",
      "\n"
     ]
    },
    {
     "name": "stdout",
     "output_type": "stream",
     "text": [
      "[0]\ttrain-rmse:5063.78\tvalid-rmse:5012.07                                                                   \n",
      "\n",
      "val_r2_score=-390889899.16350937                                                                            \n",
      "  0%|                                                                | 0/10 [00:01<?, ?trial/s, best loss=?]"
     ]
    },
    {
     "name": "stderr",
     "output_type": "stream",
     "text": [
      "D:\\Anaconda3\\lib\\site-packages\\xgboost\\core.py:587: FutureWarning: Series.base is deprecated and will be removed in a future version\n",
      "  if getattr(data, 'base', None) is not None and \\\n",
      "\n"
     ]
    },
    {
     "name": "stdout",
     "output_type": "stream",
     "text": [
      "[0]\ttrain-rmse:5049.25\tvalid-rmse:5041.3                                                                    \n",
      "\n",
      "val_r2_score=-390880081.4031657                                                                             \n",
      "  0%|                                                                | 0/10 [00:01<?, ?trial/s, best loss=?]"
     ]
    },
    {
     "name": "stderr",
     "output_type": "stream",
     "text": [
      "D:\\Anaconda3\\lib\\site-packages\\xgboost\\core.py:587: FutureWarning: Series.base is deprecated and will be removed in a future version\n",
      "  if getattr(data, 'base', None) is not None and \\\n",
      "\n"
     ]
    },
    {
     "name": "stdout",
     "output_type": "stream",
     "text": [
      "[0]\ttrain-rmse:5026.71\tvalid-rmse:5086.17                                                                   \n",
      "\n",
      "val_r2_score=-4.608322266372944e+21                                                                         \n",
      "                                                                                                            \n",
      "XGB objective call #2 cur_best_score=0.00000\n",
      " 10%|███▌                               | 1/10 [00:02<00:25,  2.83s/trial, best loss: 4.608322266372944e+21]"
     ]
    },
    {
     "name": "stderr",
     "output_type": "stream",
     "text": [
      "D:\\Anaconda3\\lib\\site-packages\\xgboost\\core.py:587: FutureWarning: Series.base is deprecated and will be removed in a future version\n",
      "  if getattr(data, 'base', None) is not None and \\\n",
      "\n"
     ]
    },
    {
     "name": "stdout",
     "output_type": "stream",
     "text": [
      "[0]\ttrain-rmse:5063.71\tvalid-rmse:5011.99                                                                   \n",
      "\n",
      "val_r2_score=-288617468.1083646                                                                             \n",
      " 10%|███▌                               | 1/10 [00:03<00:25,  2.83s/trial, best loss: 4.608322266372944e+21]"
     ]
    },
    {
     "name": "stderr",
     "output_type": "stream",
     "text": [
      "D:\\Anaconda3\\lib\\site-packages\\xgboost\\core.py:587: FutureWarning: Series.base is deprecated and will be removed in a future version\n",
      "  if getattr(data, 'base', None) is not None and \\\n",
      "\n"
     ]
    },
    {
     "name": "stdout",
     "output_type": "stream",
     "text": [
      "[0]\ttrain-rmse:5049.18\tvalid-rmse:5041.23                                                                   \n",
      "\n",
      "val_r2_score=-288607212.58894277                                                                            \n",
      " 10%|███▌                               | 1/10 [00:04<00:25,  2.83s/trial, best loss: 4.608322266372944e+21]"
     ]
    },
    {
     "name": "stderr",
     "output_type": "stream",
     "text": [
      "D:\\Anaconda3\\lib\\site-packages\\xgboost\\core.py:587: FutureWarning: Series.base is deprecated and will be removed in a future version\n",
      "  if getattr(data, 'base', None) is not None and \\\n",
      "\n"
     ]
    },
    {
     "name": "stdout",
     "output_type": "stream",
     "text": [
      "[0]\ttrain-rmse:5026.63\tvalid-rmse:5086.09                                                                   \n",
      "\n",
      "val_r2_score=-8.96044863846461e+20                                                                          \n",
      "                                                                                                            \n",
      "XGB objective call #3 cur_best_score=0.00000\n",
      " 20%|███████▏                            | 2/10 [00:05<00:21,  2.72s/trial, best loss: 8.96044863846461e+20]"
     ]
    },
    {
     "name": "stderr",
     "output_type": "stream",
     "text": [
      "D:\\Anaconda3\\lib\\site-packages\\xgboost\\core.py:587: FutureWarning: Series.base is deprecated and will be removed in a future version\n",
      "  if getattr(data, 'base', None) is not None and \\\n",
      "\n"
     ]
    },
    {
     "name": "stdout",
     "output_type": "stream",
     "text": [
      "[0]\ttrain-rmse:5063.74\tvalid-rmse:5012.02                                                                   \n",
      "\n",
      "val_r2_score=-325714290.3116606                                                                             \n",
      " 20%|███████▏                            | 2/10 [00:06<00:21,  2.72s/trial, best loss: 8.96044863846461e+20]"
     ]
    },
    {
     "name": "stderr",
     "output_type": "stream",
     "text": [
      "D:\\Anaconda3\\lib\\site-packages\\xgboost\\core.py:587: FutureWarning: Series.base is deprecated and will be removed in a future version\n",
      "  if getattr(data, 'base', None) is not None and \\\n",
      "\n"
     ]
    },
    {
     "name": "stdout",
     "output_type": "stream",
     "text": [
      "[0]\ttrain-rmse:5049.21\tvalid-rmse:5041.26                                                                   \n",
      "\n",
      "val_r2_score=-325703855.6418168                                                                             \n",
      " 20%|███████▏                            | 2/10 [00:06<00:21,  2.72s/trial, best loss: 8.96044863846461e+20]"
     ]
    },
    {
     "name": "stderr",
     "output_type": "stream",
     "text": [
      "D:\\Anaconda3\\lib\\site-packages\\xgboost\\core.py:587: FutureWarning: Series.base is deprecated and will be removed in a future version\n",
      "  if getattr(data, 'base', None) is not None and \\\n",
      "\n"
     ]
    },
    {
     "name": "stdout",
     "output_type": "stream",
     "text": [
      "[0]\ttrain-rmse:5026.66\tvalid-rmse:5086.12                                                                   \n",
      "\n",
      "val_r2_score=-1.1987191979183884e+19                                                                        \n",
      "                                                                                                            \n",
      "XGB objective call #4 cur_best_score=0.00000\n",
      " 30%|██████████▏                       | 3/10 [00:07<00:18,  2.65s/trial, best loss: 1.1987191979183884e+19]"
     ]
    },
    {
     "name": "stderr",
     "output_type": "stream",
     "text": [
      "D:\\Anaconda3\\lib\\site-packages\\xgboost\\core.py:587: FutureWarning: Series.base is deprecated and will be removed in a future version\n",
      "  if getattr(data, 'base', None) is not None and \\\n",
      "\n"
     ]
    },
    {
     "name": "stdout",
     "output_type": "stream",
     "text": [
      "[0]\ttrain-rmse:5063.7\tvalid-rmse:5011.98                                                                    \n",
      "\n",
      "val_r2_score=-275973493.4624723                                                                             \n",
      " 30%|██████████▏                       | 3/10 [00:08<00:18,  2.65s/trial, best loss: 1.1987191979183884e+19]"
     ]
    },
    {
     "name": "stderr",
     "output_type": "stream",
     "text": [
      "D:\\Anaconda3\\lib\\site-packages\\xgboost\\core.py:587: FutureWarning: Series.base is deprecated and will be removed in a future version\n",
      "  if getattr(data, 'base', None) is not None and \\\n",
      "\n"
     ]
    },
    {
     "name": "stdout",
     "output_type": "stream",
     "text": [
      "[0]\ttrain-rmse:5049.16\tvalid-rmse:5041.21                                                                   \n",
      "\n",
      "val_r2_score=-275963238.4959849                                                                             \n",
      " 30%|██████████▏                       | 3/10 [00:09<00:18,  2.65s/trial, best loss: 1.1987191979183884e+19]"
     ]
    },
    {
     "name": "stderr",
     "output_type": "stream",
     "text": [
      "D:\\Anaconda3\\lib\\site-packages\\xgboost\\core.py:587: FutureWarning: Series.base is deprecated and will be removed in a future version\n",
      "  if getattr(data, 'base', None) is not None and \\\n",
      "\n"
     ]
    },
    {
     "name": "stdout",
     "output_type": "stream",
     "text": [
      "[0]\ttrain-rmse:5026.62\tvalid-rmse:5086.08                                                                   \n",
      "\n",
      "val_r2_score=-7.501779714058728e+20                                                                         \n",
      "                                                                                                            \n",
      "XGB objective call #5 cur_best_score=0.00000\n",
      " 40%|█████████████▌                    | 4/10 [00:10<00:15,  2.61s/trial, best loss: 1.1987191979183884e+19]"
     ]
    },
    {
     "name": "stderr",
     "output_type": "stream",
     "text": [
      "D:\\Anaconda3\\lib\\site-packages\\xgboost\\core.py:587: FutureWarning: Series.base is deprecated and will be removed in a future version\n",
      "  if getattr(data, 'base', None) is not None and \\\n",
      "\n"
     ]
    },
    {
     "name": "stdout",
     "output_type": "stream",
     "text": [
      "[0]\ttrain-rmse:5063.76\tvalid-rmse:5012.05                                                                   \n",
      "\n",
      "val_r2_score=-355943537.87887543                                                                            \n",
      " 40%|█████████████▌                    | 4/10 [00:11<00:15,  2.61s/trial, best loss: 1.1987191979183884e+19]"
     ]
    },
    {
     "name": "stderr",
     "output_type": "stream",
     "text": [
      "D:\\Anaconda3\\lib\\site-packages\\xgboost\\core.py:587: FutureWarning: Series.base is deprecated and will be removed in a future version\n",
      "  if getattr(data, 'base', None) is not None and \\\n",
      "\n"
     ]
    },
    {
     "name": "stdout",
     "output_type": "stream",
     "text": [
      "[0]\ttrain-rmse:5049.23\tvalid-rmse:5041.28                                                                   \n",
      "\n",
      "val_r2_score=-355933467.7563612                                                                             \n",
      " 40%|█████████████▌                    | 4/10 [00:11<00:15,  2.61s/trial, best loss: 1.1987191979183884e+19]"
     ]
    },
    {
     "name": "stderr",
     "output_type": "stream",
     "text": [
      "D:\\Anaconda3\\lib\\site-packages\\xgboost\\core.py:587: FutureWarning: Series.base is deprecated and will be removed in a future version\n",
      "  if getattr(data, 'base', None) is not None and \\\n",
      "\n"
     ]
    },
    {
     "name": "stdout",
     "output_type": "stream",
     "text": [
      "[0]\ttrain-rmse:5026.69\tvalid-rmse:5086.15                                                                   \n",
      "\n",
      "val_r2_score=-1.6977858523455805e+21                                                                        \n",
      "                                                                                                            \n",
      "XGB objective call #6 cur_best_score=0.00000\n",
      " 50%|█████████████████                 | 5/10 [00:12<00:12,  2.58s/trial, best loss: 1.1987191979183884e+19]"
     ]
    },
    {
     "name": "stderr",
     "output_type": "stream",
     "text": [
      "D:\\Anaconda3\\lib\\site-packages\\xgboost\\core.py:587: FutureWarning: Series.base is deprecated and will be removed in a future version\n",
      "  if getattr(data, 'base', None) is not None and \\\n",
      "\n"
     ]
    },
    {
     "name": "stdout",
     "output_type": "stream",
     "text": [
      "[0]\ttrain-rmse:5063.64\tvalid-rmse:5011.93                                                                   \n",
      "\n",
      "val_r2_score=-230279071.49644762                                                                            \n",
      " 50%|█████████████████                 | 5/10 [00:13<00:12,  2.58s/trial, best loss: 1.1987191979183884e+19]"
     ]
    },
    {
     "name": "stderr",
     "output_type": "stream",
     "text": [
      "D:\\Anaconda3\\lib\\site-packages\\xgboost\\core.py:587: FutureWarning: Series.base is deprecated and will be removed in a future version\n",
      "  if getattr(data, 'base', None) is not None and \\\n",
      "\n"
     ]
    },
    {
     "name": "stdout",
     "output_type": "stream",
     "text": [
      "[0]\ttrain-rmse:5049.11\tvalid-rmse:5041.16                                                                   \n",
      "\n",
      "val_r2_score=-230269642.13032737                                                                            \n",
      " 50%|█████████████████                 | 5/10 [00:14<00:12,  2.58s/trial, best loss: 1.1987191979183884e+19]"
     ]
    },
    {
     "name": "stderr",
     "output_type": "stream",
     "text": [
      "D:\\Anaconda3\\lib\\site-packages\\xgboost\\core.py:587: FutureWarning: Series.base is deprecated and will be removed in a future version\n",
      "  if getattr(data, 'base', None) is not None and \\\n",
      "\n"
     ]
    },
    {
     "name": "stdout",
     "output_type": "stream",
     "text": [
      "[0]\ttrain-rmse:5026.56\tvalid-rmse:5086.03                                                                   \n",
      "\n",
      "val_r2_score=-1.6787362591218747e+18                                                                        \n",
      "                                                                                                            \n",
      "XGB objective call #7 cur_best_score=0.00000\n",
      " 60%|████████████████████▍             | 6/10 [00:15<00:10,  2.58s/trial, best loss: 1.6787362591218747e+18]"
     ]
    },
    {
     "name": "stderr",
     "output_type": "stream",
     "text": [
      "D:\\Anaconda3\\lib\\site-packages\\xgboost\\core.py:587: FutureWarning: Series.base is deprecated and will be removed in a future version\n",
      "  if getattr(data, 'base', None) is not None and \\\n",
      "\n"
     ]
    },
    {
     "name": "stdout",
     "output_type": "stream",
     "text": [
      "[0]\ttrain-rmse:5063.77\tvalid-rmse:5012.06                                                                   \n",
      "\n",
      "val_r2_score=-368561246.2491222                                                                             \n",
      " 60%|████████████████████▍             | 6/10 [00:16<00:10,  2.58s/trial, best loss: 1.6787362591218747e+18]"
     ]
    },
    {
     "name": "stderr",
     "output_type": "stream",
     "text": [
      "D:\\Anaconda3\\lib\\site-packages\\xgboost\\core.py:587: FutureWarning: Series.base is deprecated and will be removed in a future version\n",
      "  if getattr(data, 'base', None) is not None and \\\n",
      "\n"
     ]
    },
    {
     "name": "stdout",
     "output_type": "stream",
     "text": [
      "[0]\ttrain-rmse:5049.24\tvalid-rmse:5041.29                                                                   \n",
      "\n",
      "val_r2_score=-368551431.1148463                                                                             \n",
      " 60%|████████████████████▍             | 6/10 [00:17<00:10,  2.58s/trial, best loss: 1.6787362591218747e+18]"
     ]
    },
    {
     "name": "stderr",
     "output_type": "stream",
     "text": [
      "D:\\Anaconda3\\lib\\site-packages\\xgboost\\core.py:587: FutureWarning: Series.base is deprecated and will be removed in a future version\n",
      "  if getattr(data, 'base', None) is not None and \\\n",
      "\n"
     ]
    },
    {
     "name": "stdout",
     "output_type": "stream",
     "text": [
      "[0]\ttrain-rmse:5026.69\tvalid-rmse:5086.15                                                                   \n",
      "\n",
      "val_r2_score=-3.852489678662055e+21                                                                         \n",
      "                                                                                                            \n",
      "XGB objective call #8 cur_best_score=0.00000\n",
      " 70%|███████████████████████▊          | 7/10 [00:17<00:07,  2.56s/trial, best loss: 1.6787362591218747e+18]"
     ]
    },
    {
     "name": "stderr",
     "output_type": "stream",
     "text": [
      "D:\\Anaconda3\\lib\\site-packages\\xgboost\\core.py:587: FutureWarning: Series.base is deprecated and will be removed in a future version\n",
      "  if getattr(data, 'base', None) is not None and \\\n",
      "\n"
     ]
    },
    {
     "name": "stdout",
     "output_type": "stream",
     "text": [
      "[0]\ttrain-rmse:5063.78\tvalid-rmse:5012.07                                                                   \n",
      "\n",
      "val_r2_score=-389177974.59148926                                                                            \n",
      " 70%|███████████████████████▊          | 7/10 [00:18<00:07,  2.56s/trial, best loss: 1.6787362591218747e+18]"
     ]
    },
    {
     "name": "stderr",
     "output_type": "stream",
     "text": [
      "D:\\Anaconda3\\lib\\site-packages\\xgboost\\core.py:587: FutureWarning: Series.base is deprecated and will be removed in a future version\n",
      "  if getattr(data, 'base', None) is not None and \\\n",
      "\n"
     ]
    },
    {
     "name": "stdout",
     "output_type": "stream",
     "text": [
      "[0]\ttrain-rmse:5049.25\tvalid-rmse:5041.3                                                                    \n",
      "\n",
      "val_r2_score=-389168281.512037                                                                              \n",
      " 70%|███████████████████████▊          | 7/10 [00:19<00:07,  2.56s/trial, best loss: 1.6787362591218747e+18]"
     ]
    },
    {
     "name": "stderr",
     "output_type": "stream",
     "text": [
      "D:\\Anaconda3\\lib\\site-packages\\xgboost\\core.py:587: FutureWarning: Series.base is deprecated and will be removed in a future version\n",
      "  if getattr(data, 'base', None) is not None and \\\n",
      "\n"
     ]
    },
    {
     "name": "stdout",
     "output_type": "stream",
     "text": [
      "[0]\ttrain-rmse:5026.71\tvalid-rmse:5086.17                                                                   \n",
      "\n",
      "val_r2_score=-7.837467649915485e+21                                                                         \n",
      "                                                                                                            \n",
      "XGB objective call #9 cur_best_score=0.00000\n",
      " 80%|███████████████████████████▏      | 8/10 [00:20<00:05,  2.56s/trial, best loss: 1.6787362591218747e+18]"
     ]
    },
    {
     "name": "stderr",
     "output_type": "stream",
     "text": [
      "D:\\Anaconda3\\lib\\site-packages\\xgboost\\core.py:587: FutureWarning: Series.base is deprecated and will be removed in a future version\n",
      "  if getattr(data, 'base', None) is not None and \\\n",
      "\n"
     ]
    },
    {
     "name": "stdout",
     "output_type": "stream",
     "text": [
      "[0]\ttrain-rmse:5063.73\tvalid-rmse:5012.02                                                                   \n",
      "\n",
      "val_r2_score=-316855796.2472348                                                                             \n",
      " 80%|███████████████████████████▏      | 8/10 [00:21<00:05,  2.56s/trial, best loss: 1.6787362591218747e+18]"
     ]
    },
    {
     "name": "stderr",
     "output_type": "stream",
     "text": [
      "D:\\Anaconda3\\lib\\site-packages\\xgboost\\core.py:587: FutureWarning: Series.base is deprecated and will be removed in a future version\n",
      "  if getattr(data, 'base', None) is not None and \\\n",
      "\n"
     ]
    },
    {
     "name": "stdout",
     "output_type": "stream",
     "text": [
      "[0]\ttrain-rmse:5049.2\tvalid-rmse:5041.25                                                                    \n",
      "\n",
      "val_r2_score=-316845605.3217953                                                                             \n",
      " 80%|███████████████████████████▏      | 8/10 [00:22<00:05,  2.56s/trial, best loss: 1.6787362591218747e+18]"
     ]
    },
    {
     "name": "stderr",
     "output_type": "stream",
     "text": [
      "D:\\Anaconda3\\lib\\site-packages\\xgboost\\core.py:587: FutureWarning: Series.base is deprecated and will be removed in a future version\n",
      "  if getattr(data, 'base', None) is not None and \\\n",
      "\n"
     ]
    },
    {
     "name": "stdout",
     "output_type": "stream",
     "text": [
      "[0]\ttrain-rmse:5026.66\tvalid-rmse:5086.12                                                                   \n",
      "\n",
      "val_r2_score=-1.5360811769854598e+21                                                                        \n",
      "                                                                                                            \n",
      "XGB objective call #10 cur_best_score=0.00000\n",
      " 90%|██████████████████████████████▌   | 9/10 [00:23<00:02,  2.55s/trial, best loss: 1.6787362591218747e+18]"
     ]
    },
    {
     "name": "stderr",
     "output_type": "stream",
     "text": [
      "D:\\Anaconda3\\lib\\site-packages\\xgboost\\core.py:587: FutureWarning: Series.base is deprecated and will be removed in a future version\n",
      "  if getattr(data, 'base', None) is not None and \\\n",
      "\n"
     ]
    },
    {
     "name": "stdout",
     "output_type": "stream",
     "text": [
      "[0]\ttrain-rmse:5063.78\tvalid-rmse:5012.06                                                                   \n",
      "\n",
      "val_r2_score=-378487571.16812176                                                                            \n",
      " 90%|██████████████████████████████▌   | 9/10 [00:23<00:02,  2.55s/trial, best loss: 1.6787362591218747e+18]"
     ]
    },
    {
     "name": "stderr",
     "output_type": "stream",
     "text": [
      "D:\\Anaconda3\\lib\\site-packages\\xgboost\\core.py:587: FutureWarning: Series.base is deprecated and will be removed in a future version\n",
      "  if getattr(data, 'base', None) is not None and \\\n",
      "\n"
     ]
    },
    {
     "name": "stdout",
     "output_type": "stream",
     "text": [
      "[0]\ttrain-rmse:5049.25\tvalid-rmse:5041.29                                                                   \n",
      "\n",
      "val_r2_score=-378477766.54979473                                                                            \n",
      " 90%|██████████████████████████████▌   | 9/10 [00:24<00:02,  2.55s/trial, best loss: 1.6787362591218747e+18]"
     ]
    },
    {
     "name": "stderr",
     "output_type": "stream",
     "text": [
      "D:\\Anaconda3\\lib\\site-packages\\xgboost\\core.py:587: FutureWarning: Series.base is deprecated and will be removed in a future version\n",
      "  if getattr(data, 'base', None) is not None and \\\n",
      "\n"
     ]
    },
    {
     "name": "stdout",
     "output_type": "stream",
     "text": [
      "[0]\ttrain-rmse:5026.7\tvalid-rmse:5086.16                                                                    \n",
      "\n",
      "val_r2_score=-3.2258502548969285e+22                                                                        \n",
      "100%|█████████████████████████████████| 10/10 [00:25<00:00,  2.55s/trial, best loss: 1.6787362591218747e+18]\n",
      "--------------------------------------------------\n",
      "The best params:\n",
      "{'colsample_bylevel': 0.48988374231135856, 'colsample_bytree': 0.2130437213015567, 'eta': 1.9134853497647035, 'gamma': 0.07393498485374711, 'lambda': 18.223566813917763, 'learning_rate': 0.34434173612498836, 'max_depth': 4.8943516410959305, 'min_child_weight': 0.3633108415279549, 'subsample': 0.25235555808827564}\n",
      "\n",
      "\n",
      "\n"
     ]
    }
   ],
   "source": [
    "obj_call_count = 0\n",
    "cur_best_score = 0\n",
    "log_writer = open( 'XGB-hyperopt-log.txt', 'w' )\n",
    "def objective(space):\n",
    "    global obj_call_count, cur_best_score\n",
    "    obj_call_count += 1\n",
    "    \n",
    "    xgb_params = {\n",
    "        'eval_metric':'rmse',\n",
    "        'objective' : 'reg:gamma',\n",
    "        'booster':'gbtree',\n",
    "        'max_depth': int(space['max_depth']),\n",
    "        'gamma': space['gamma'],\n",
    "        'colsample_bytree': space['colsample_bytree'],\n",
    "        'colsample_bylevel' : space['colsample_bylevel'],\n",
    "        'eta':space['eta'],\n",
    "        'min_child_weight' : space['min_child_weight'],\n",
    "        'subsample' : space['subsample'],\n",
    "        'learning_rate' : space['learning_rate'],\n",
    "        'min_child_weight':space['min_child_weight']\n",
    "    }\n",
    "    \n",
    "    print('\\nXGB objective call #{} cur_best_score={:7.5f}'.format(obj_call_count,cur_best_score) )\n",
    "    \n",
    "    kf = KFold(n_splits=3, shuffle=True, random_state=0)\n",
    "    out_of_fold = np.zeros(len(X_train))\n",
    "    \n",
    "    for fold, (train_idx, val_idx) in enumerate(kf.split(X_train)):\n",
    "        Train = xgb.DMatrix(X_train.iloc[train_idx],Y_train[train_idx])\n",
    "        Val =   xgb.DMatrix(X_train.iloc[val_idx], label=Y_train[val_idx])\n",
    "        \n",
    "        evallist = [(Train, 'train'),(Val, 'valid')]\n",
    "        xgb_modle = xgb.train(xgb_params, Train, num_boost_round=1, evals = evallist)\n",
    "        \n",
    "        out_of_fold[val_idx] = xgb_modle.predict(xgb.DMatrix(X_train.iloc[val_idx]))\n",
    "        score = r2_score(out_of_fold, Y_train)\n",
    "        print('val_r2_score={}'.format(score))\n",
    "        \n",
    "    log_writer.write('score={}\\n'.format(score))\n",
    "    log_writer.flush()\n",
    "\n",
    "    if score>cur_best_score:\n",
    "        cur_best_score = score\n",
    "        print(colorama.Fore.GREEN + 'NEW BEST SCORE={}'.format(cur_best_score) + colorama.Fore.RESET)\n",
    "        \n",
    "    return {'loss': -score, 'status': STATUS_OK}\n",
    "\n",
    "space = {\n",
    "    'learning_rate' : hp.uniform('learning_rate',0,0.4),\n",
    "    'gamma': hp.uniform('gamma', 0, 0.5),\n",
    "    'min_child_weight':hp.uniform('min_child_weight',0,2),\n",
    "    'max_depth': hp.uniform('max_depth',4,6),\n",
    "    'lambda': hp.uniform('lambda',15,20),\n",
    "    'subsample':hp.uniform('subsample',0,0.4),\n",
    "    'colsample_bytree':hp.uniform('colsample_bytree',0,0.3),\n",
    "    'colsample_bylevel':hp.uniform('colsample_bylevel',0,0.9),\n",
    "    'eta': hp.uniform('eta',0,2)\n",
    "}\n",
    "\n",
    "trials = Trials()\n",
    "best = hyperopt.fmin(fn=objective,\n",
    "                     space=space,\n",
    "                     algo=tpe.suggest,\n",
    "                     max_evals=10,\n",
    "                     trials=trials,\n",
    "                     verbose=1)\n",
    "\n",
    "print('-'*50)\n",
    "print('The best params:')\n",
    "print( best )\n",
    "print('\\n\\n')\n",
    "log_writer.write('best_params={}\\n'.format(best))\n",
    "log_writer.flush()"
   ]
  },
  {
   "cell_type": "code",
   "execution_count": 6,
   "metadata": {},
   "outputs": [
    {
     "data": {
      "text/plain": [
       "0      NaN\n",
       "1      NaN\n",
       "2      NaN\n",
       "3      NaN\n",
       "4      NaN\n",
       "        ..\n",
       "2464   NaN\n",
       "2465   NaN\n",
       "2466   NaN\n",
       "2467   NaN\n",
       "2468   NaN\n",
       "Name: tradeMoney, Length: 2469, dtype: float64"
      ]
     },
     "execution_count": 6,
     "metadata": {},
     "output_type": "execute_result"
    }
   ],
   "source": [
    "test = pd.read_csv('C:/Users/Boniface/Desktop/房租预测/datasets/cluster_test.csv')\n",
    "test.pop('Unnamed: 0')\n",
    "test.pop('tradeMoney')"
   ]
  },
  {
   "cell_type": "code",
   "execution_count": 4,
   "metadata": {},
   "outputs": [],
   "source": [
    "xgb_params = {'colsample_bylevel': 0.7561534982217195, 'colsample_bytree': 0.29553715278515313, 'eta': 1.2527570325666055, \n",
    "              'gamma': 0.13580374578821358, 'lambda': 15.547715254742997, 'learning_rate': 0.049033226916099903, \n",
    "              'max_depth': int(5.34805217981379), 'min_child_weight': 1.4908292047443312, 'subsample': 0.39948434547036404,\n",
    "         'eval_metric':'rmse',\n",
    "        'objective' : 'reg:gamma',\n",
    "        'booster':'gbtree','tree_method' : 'gpu_hist'}\n",
    "\n",
    "xgb_modle = xgb.train(xgb_params, Train, num_boost_round=1200)"
   ]
  },
  {
   "cell_type": "code",
   "execution_count": 7,
   "metadata": {},
   "outputs": [
    {
     "data": {
      "text/plain": [
       "array([4256.559 , 5209.062 , 5370.614 , ..., 5223.2095, 5407.6797,\n",
       "       3769.1033], dtype=float32)"
      ]
     },
     "execution_count": 7,
     "metadata": {},
     "output_type": "execute_result"
    }
   ],
   "source": [
    "tradeMoney_predict = xgb_modle.predict(xgb.DMatrix(test))"
   ]
  },
  {
   "cell_type": "code",
   "execution_count": 8,
   "metadata": {},
   "outputs": [
    {
     "name": "stdout",
     "output_type": "stream",
     "text": [
      "0.9739413074546406\n"
     ]
    }
   ],
   "source": [
    "judge = pd.read_csv('C:/Users/Boniface/Desktop/房租预测/datasets/评分文件/sub_a_913.csv')\n",
    "score = r2_score(judge, tradeMoney_predict)\n",
    "print(score)"
   ]
  },
  {
   "cell_type": "code",
   "execution_count": 10,
   "metadata": {},
   "outputs": [],
   "source": [
    "tradeMoney_predict = pd.DataFrame(tradeMoney_predict)"
   ]
  },
  {
   "cell_type": "code",
   "execution_count": 11,
   "metadata": {},
   "outputs": [],
   "source": [
    "tradeMoney_predict.to_csv('xgb_tradeMoney_predict.csv')"
   ]
  },
  {
   "cell_type": "code",
   "execution_count": null,
   "metadata": {},
   "outputs": [],
   "source": []
  },
  {
   "cell_type": "code",
   "execution_count": 19,
   "metadata": {},
   "outputs": [],
   "source": [
    "params={'booster':'gbtree',\n",
    "\t    'eval_metric':'auc',\n",
    "\t    'gamma':0.1,\n",
    "\t    'min_child_weight':1.1,\n",
    "\t    'max_depth':5,\n",
    "\t    'lambda':10,\n",
    "\t    'subsample':0.7,\n",
    "\t    'colsample_bytree':0.7,\n",
    "\t    'colsample_bylevel':0.7,\n",
    "\t    'eta': 0.01,\n",
    "\t    'tree_method':'exact',\n",
    "\t    'seed':0,\n",
    "\t    'nthread':12\n",
    "\t    }"
   ]
  },
  {
   "cell_type": "code",
   "execution_count": 25,
   "metadata": {},
   "outputs": [],
   "source": [
    "model_xgb = xgb.train(params, Train, num_boost_round=1000)"
   ]
  },
  {
   "cell_type": "code",
   "execution_count": 36,
   "metadata": {},
   "outputs": [],
   "source": [
    "test = pd.read_csv('C:/Users/Boniface/Desktop/房租预测/datasets/cluster_test.csv')\n",
    "test.pop('Unnamed: 0')\n",
    "test.pop('tradeMoney')\n",
    "Test = xgb.DMatrix(test)"
   ]
  },
  {
   "cell_type": "code",
   "execution_count": 37,
   "metadata": {
    "scrolled": false
   },
   "outputs": [],
   "source": [
    "tradeMoney_predict = model_xgb.predict(Test)"
   ]
  },
  {
   "cell_type": "code",
   "execution_count": 38,
   "metadata": {},
   "outputs": [
    {
     "data": {
      "text/plain": [
       "array([4240.1235, 5151.479 , 6127.673 , ..., 4987.579 , 5956.1445,\n",
       "       3912.988 ], dtype=float32)"
      ]
     },
     "execution_count": 38,
     "metadata": {},
     "output_type": "execute_result"
    }
   ],
   "source": [
    "tradeMoney_predict"
   ]
  },
  {
   "cell_type": "markdown",
   "metadata": {},
   "source": [
    "## 调参"
   ]
  },
  {
   "cell_type": "code",
   "execution_count": 59,
   "metadata": {
    "scrolled": true
   },
   "outputs": [
    {
     "name": "stdout",
     "output_type": "stream",
     "text": [
      "\r",
      "  0%|                                                                           | 0/10 [00:00<?, ?trial/s, best loss=?]"
     ]
    },
    {
     "name": "stderr",
     "output_type": "stream",
     "text": [
      "job exception: dictionary update sequence element #0 has length 1; 2 is required\n",
      "\n"
     ]
    },
    {
     "name": "stdout",
     "output_type": "stream",
     "text": [
      "  0%|                                                                           | 0/10 [00:44<?, ?trial/s, best loss=?]\n"
     ]
    },
    {
     "ename": "ValueError",
     "evalue": "dictionary update sequence element #0 has length 1; 2 is required",
     "output_type": "error",
     "traceback": [
      "\u001b[1;31m---------------------------------------------------------------------------\u001b[0m",
      "\u001b[1;31mValueError\u001b[0m                                Traceback (most recent call last)",
      "\u001b[1;32m<ipython-input-59-3994810bd208>\u001b[0m in \u001b[0;36m<module>\u001b[1;34m\u001b[0m\n\u001b[0;32m     42\u001b[0m                      \u001b[0mmax_evals\u001b[0m\u001b[1;33m=\u001b[0m\u001b[0mN_HYPEROPT_PROBES\u001b[0m\u001b[1;33m,\u001b[0m\u001b[1;33m\u001b[0m\u001b[1;33m\u001b[0m\u001b[0m\n\u001b[0;32m     43\u001b[0m                      \u001b[0mtrials\u001b[0m\u001b[1;33m=\u001b[0m\u001b[0mtrials\u001b[0m\u001b[1;33m,\u001b[0m\u001b[1;33m\u001b[0m\u001b[1;33m\u001b[0m\u001b[0m\n\u001b[1;32m---> 44\u001b[1;33m                      verbose=1)\n\u001b[0m\u001b[0;32m     45\u001b[0m \u001b[0mprint\u001b[0m\u001b[1;33m(\u001b[0m\u001b[1;34m'-'\u001b[0m\u001b[1;33m*\u001b[0m\u001b[1;36m50\u001b[0m\u001b[1;33m)\u001b[0m\u001b[1;33m\u001b[0m\u001b[1;33m\u001b[0m\u001b[0m\n\u001b[0;32m     46\u001b[0m \u001b[0mprint\u001b[0m\u001b[1;33m(\u001b[0m\u001b[1;34m'The best params:'\u001b[0m\u001b[1;33m)\u001b[0m\u001b[1;33m\u001b[0m\u001b[1;33m\u001b[0m\u001b[0m\n",
      "\u001b[1;32mD:\\Anaconda3\\lib\\site-packages\\hyperopt\\fmin.py\u001b[0m in \u001b[0;36mfmin\u001b[1;34m(fn, space, algo, max_evals, timeout, loss_threshold, trials, rstate, allow_trials_fmin, pass_expr_memo_ctrl, catch_eval_exceptions, verbose, return_argmin, points_to_evaluate, max_queue_len, show_progressbar)\u001b[0m\n\u001b[0;32m    480\u001b[0m             \u001b[0mcatch_eval_exceptions\u001b[0m\u001b[1;33m=\u001b[0m\u001b[0mcatch_eval_exceptions\u001b[0m\u001b[1;33m,\u001b[0m\u001b[1;33m\u001b[0m\u001b[1;33m\u001b[0m\u001b[0m\n\u001b[0;32m    481\u001b[0m             \u001b[0mreturn_argmin\u001b[0m\u001b[1;33m=\u001b[0m\u001b[0mreturn_argmin\u001b[0m\u001b[1;33m,\u001b[0m\u001b[1;33m\u001b[0m\u001b[1;33m\u001b[0m\u001b[0m\n\u001b[1;32m--> 482\u001b[1;33m             \u001b[0mshow_progressbar\u001b[0m\u001b[1;33m=\u001b[0m\u001b[0mshow_progressbar\u001b[0m\u001b[1;33m,\u001b[0m\u001b[1;33m\u001b[0m\u001b[1;33m\u001b[0m\u001b[0m\n\u001b[0m\u001b[0;32m    483\u001b[0m         )\n\u001b[0;32m    484\u001b[0m \u001b[1;33m\u001b[0m\u001b[0m\n",
      "\u001b[1;32mD:\\Anaconda3\\lib\\site-packages\\hyperopt\\base.py\u001b[0m in \u001b[0;36mfmin\u001b[1;34m(self, fn, space, algo, max_evals, timeout, loss_threshold, max_queue_len, rstate, verbose, pass_expr_memo_ctrl, catch_eval_exceptions, return_argmin, show_progressbar)\u001b[0m\n\u001b[0;32m    684\u001b[0m             \u001b[0mcatch_eval_exceptions\u001b[0m\u001b[1;33m=\u001b[0m\u001b[0mcatch_eval_exceptions\u001b[0m\u001b[1;33m,\u001b[0m\u001b[1;33m\u001b[0m\u001b[1;33m\u001b[0m\u001b[0m\n\u001b[0;32m    685\u001b[0m             \u001b[0mreturn_argmin\u001b[0m\u001b[1;33m=\u001b[0m\u001b[0mreturn_argmin\u001b[0m\u001b[1;33m,\u001b[0m\u001b[1;33m\u001b[0m\u001b[1;33m\u001b[0m\u001b[0m\n\u001b[1;32m--> 686\u001b[1;33m             \u001b[0mshow_progressbar\u001b[0m\u001b[1;33m=\u001b[0m\u001b[0mshow_progressbar\u001b[0m\u001b[1;33m,\u001b[0m\u001b[1;33m\u001b[0m\u001b[1;33m\u001b[0m\u001b[0m\n\u001b[0m\u001b[0;32m    687\u001b[0m         )\n\u001b[0;32m    688\u001b[0m \u001b[1;33m\u001b[0m\u001b[0m\n",
      "\u001b[1;32mD:\\Anaconda3\\lib\\site-packages\\hyperopt\\fmin.py\u001b[0m in \u001b[0;36mfmin\u001b[1;34m(fn, space, algo, max_evals, timeout, loss_threshold, trials, rstate, allow_trials_fmin, pass_expr_memo_ctrl, catch_eval_exceptions, verbose, return_argmin, points_to_evaluate, max_queue_len, show_progressbar)\u001b[0m\n\u001b[0;32m    507\u001b[0m \u001b[1;33m\u001b[0m\u001b[0m\n\u001b[0;32m    508\u001b[0m     \u001b[1;31m# next line is where the fmin is actually executed\u001b[0m\u001b[1;33m\u001b[0m\u001b[1;33m\u001b[0m\u001b[1;33m\u001b[0m\u001b[0m\n\u001b[1;32m--> 509\u001b[1;33m     \u001b[0mrval\u001b[0m\u001b[1;33m.\u001b[0m\u001b[0mexhaust\u001b[0m\u001b[1;33m(\u001b[0m\u001b[1;33m)\u001b[0m\u001b[1;33m\u001b[0m\u001b[1;33m\u001b[0m\u001b[0m\n\u001b[0m\u001b[0;32m    510\u001b[0m \u001b[1;33m\u001b[0m\u001b[0m\n\u001b[0;32m    511\u001b[0m     \u001b[1;32mif\u001b[0m \u001b[0mreturn_argmin\u001b[0m\u001b[1;33m:\u001b[0m\u001b[1;33m\u001b[0m\u001b[1;33m\u001b[0m\u001b[0m\n",
      "\u001b[1;32mD:\\Anaconda3\\lib\\site-packages\\hyperopt\\fmin.py\u001b[0m in \u001b[0;36mexhaust\u001b[1;34m(self)\u001b[0m\n\u001b[0;32m    328\u001b[0m     \u001b[1;32mdef\u001b[0m \u001b[0mexhaust\u001b[0m\u001b[1;33m(\u001b[0m\u001b[0mself\u001b[0m\u001b[1;33m)\u001b[0m\u001b[1;33m:\u001b[0m\u001b[1;33m\u001b[0m\u001b[1;33m\u001b[0m\u001b[0m\n\u001b[0;32m    329\u001b[0m         \u001b[0mn_done\u001b[0m \u001b[1;33m=\u001b[0m \u001b[0mlen\u001b[0m\u001b[1;33m(\u001b[0m\u001b[0mself\u001b[0m\u001b[1;33m.\u001b[0m\u001b[0mtrials\u001b[0m\u001b[1;33m)\u001b[0m\u001b[1;33m\u001b[0m\u001b[1;33m\u001b[0m\u001b[0m\n\u001b[1;32m--> 330\u001b[1;33m         \u001b[0mself\u001b[0m\u001b[1;33m.\u001b[0m\u001b[0mrun\u001b[0m\u001b[1;33m(\u001b[0m\u001b[0mself\u001b[0m\u001b[1;33m.\u001b[0m\u001b[0mmax_evals\u001b[0m \u001b[1;33m-\u001b[0m \u001b[0mn_done\u001b[0m\u001b[1;33m,\u001b[0m \u001b[0mblock_until_done\u001b[0m\u001b[1;33m=\u001b[0m\u001b[0mself\u001b[0m\u001b[1;33m.\u001b[0m\u001b[0masynchronous\u001b[0m\u001b[1;33m)\u001b[0m\u001b[1;33m\u001b[0m\u001b[1;33m\u001b[0m\u001b[0m\n\u001b[0m\u001b[0;32m    331\u001b[0m         \u001b[0mself\u001b[0m\u001b[1;33m.\u001b[0m\u001b[0mtrials\u001b[0m\u001b[1;33m.\u001b[0m\u001b[0mrefresh\u001b[0m\u001b[1;33m(\u001b[0m\u001b[1;33m)\u001b[0m\u001b[1;33m\u001b[0m\u001b[1;33m\u001b[0m\u001b[0m\n\u001b[0;32m    332\u001b[0m         \u001b[1;32mreturn\u001b[0m \u001b[0mself\u001b[0m\u001b[1;33m\u001b[0m\u001b[1;33m\u001b[0m\u001b[0m\n",
      "\u001b[1;32mD:\\Anaconda3\\lib\\site-packages\\hyperopt\\fmin.py\u001b[0m in \u001b[0;36mrun\u001b[1;34m(self, N, block_until_done)\u001b[0m\n\u001b[0;32m    284\u001b[0m                 \u001b[1;32melse\u001b[0m\u001b[1;33m:\u001b[0m\u001b[1;33m\u001b[0m\u001b[1;33m\u001b[0m\u001b[0m\n\u001b[0;32m    285\u001b[0m                     \u001b[1;31m# -- loop over trials and do the jobs directly\u001b[0m\u001b[1;33m\u001b[0m\u001b[1;33m\u001b[0m\u001b[1;33m\u001b[0m\u001b[0m\n\u001b[1;32m--> 286\u001b[1;33m                     \u001b[0mself\u001b[0m\u001b[1;33m.\u001b[0m\u001b[0mserial_evaluate\u001b[0m\u001b[1;33m(\u001b[0m\u001b[1;33m)\u001b[0m\u001b[1;33m\u001b[0m\u001b[1;33m\u001b[0m\u001b[0m\n\u001b[0m\u001b[0;32m    287\u001b[0m \u001b[1;33m\u001b[0m\u001b[0m\n\u001b[0;32m    288\u001b[0m                 \u001b[0mself\u001b[0m\u001b[1;33m.\u001b[0m\u001b[0mtrials\u001b[0m\u001b[1;33m.\u001b[0m\u001b[0mrefresh\u001b[0m\u001b[1;33m(\u001b[0m\u001b[1;33m)\u001b[0m\u001b[1;33m\u001b[0m\u001b[1;33m\u001b[0m\u001b[0m\n",
      "\u001b[1;32mD:\\Anaconda3\\lib\\site-packages\\hyperopt\\fmin.py\u001b[0m in \u001b[0;36mserial_evaluate\u001b[1;34m(self, N)\u001b[0m\n\u001b[0;32m    163\u001b[0m                 \u001b[0mctrl\u001b[0m \u001b[1;33m=\u001b[0m \u001b[0mbase\u001b[0m\u001b[1;33m.\u001b[0m\u001b[0mCtrl\u001b[0m\u001b[1;33m(\u001b[0m\u001b[0mself\u001b[0m\u001b[1;33m.\u001b[0m\u001b[0mtrials\u001b[0m\u001b[1;33m,\u001b[0m \u001b[0mcurrent_trial\u001b[0m\u001b[1;33m=\u001b[0m\u001b[0mtrial\u001b[0m\u001b[1;33m)\u001b[0m\u001b[1;33m\u001b[0m\u001b[1;33m\u001b[0m\u001b[0m\n\u001b[0;32m    164\u001b[0m                 \u001b[1;32mtry\u001b[0m\u001b[1;33m:\u001b[0m\u001b[1;33m\u001b[0m\u001b[1;33m\u001b[0m\u001b[0m\n\u001b[1;32m--> 165\u001b[1;33m                     \u001b[0mresult\u001b[0m \u001b[1;33m=\u001b[0m \u001b[0mself\u001b[0m\u001b[1;33m.\u001b[0m\u001b[0mdomain\u001b[0m\u001b[1;33m.\u001b[0m\u001b[0mevaluate\u001b[0m\u001b[1;33m(\u001b[0m\u001b[0mspec\u001b[0m\u001b[1;33m,\u001b[0m \u001b[0mctrl\u001b[0m\u001b[1;33m)\u001b[0m\u001b[1;33m\u001b[0m\u001b[1;33m\u001b[0m\u001b[0m\n\u001b[0m\u001b[0;32m    166\u001b[0m                 \u001b[1;32mexcept\u001b[0m \u001b[0mException\u001b[0m \u001b[1;32mas\u001b[0m \u001b[0me\u001b[0m\u001b[1;33m:\u001b[0m\u001b[1;33m\u001b[0m\u001b[1;33m\u001b[0m\u001b[0m\n\u001b[0;32m    167\u001b[0m                     \u001b[0mlogger\u001b[0m\u001b[1;33m.\u001b[0m\u001b[0merror\u001b[0m\u001b[1;33m(\u001b[0m\u001b[1;34m\"job exception: %s\"\u001b[0m \u001b[1;33m%\u001b[0m \u001b[0mstr\u001b[0m\u001b[1;33m(\u001b[0m\u001b[0me\u001b[0m\u001b[1;33m)\u001b[0m\u001b[1;33m)\u001b[0m\u001b[1;33m\u001b[0m\u001b[1;33m\u001b[0m\u001b[0m\n",
      "\u001b[1;32mD:\\Anaconda3\\lib\\site-packages\\hyperopt\\base.py\u001b[0m in \u001b[0;36mevaluate\u001b[1;34m(self, config, ctrl, attach_attachments)\u001b[0m\n\u001b[0;32m    897\u001b[0m             \u001b[0mdict_rval\u001b[0m \u001b[1;33m=\u001b[0m \u001b[1;33m{\u001b[0m\u001b[1;34m\"loss\"\u001b[0m\u001b[1;33m:\u001b[0m \u001b[0mfloat\u001b[0m\u001b[1;33m(\u001b[0m\u001b[0mrval\u001b[0m\u001b[1;33m)\u001b[0m\u001b[1;33m,\u001b[0m \u001b[1;34m\"status\"\u001b[0m\u001b[1;33m:\u001b[0m \u001b[0mSTATUS_OK\u001b[0m\u001b[1;33m}\u001b[0m\u001b[1;33m\u001b[0m\u001b[1;33m\u001b[0m\u001b[0m\n\u001b[0;32m    898\u001b[0m         \u001b[1;32melse\u001b[0m\u001b[1;33m:\u001b[0m\u001b[1;33m\u001b[0m\u001b[1;33m\u001b[0m\u001b[0m\n\u001b[1;32m--> 899\u001b[1;33m             \u001b[0mdict_rval\u001b[0m \u001b[1;33m=\u001b[0m \u001b[0mdict\u001b[0m\u001b[1;33m(\u001b[0m\u001b[0mrval\u001b[0m\u001b[1;33m)\u001b[0m\u001b[1;33m\u001b[0m\u001b[1;33m\u001b[0m\u001b[0m\n\u001b[0m\u001b[0;32m    900\u001b[0m             \u001b[0mstatus\u001b[0m \u001b[1;33m=\u001b[0m \u001b[0mdict_rval\u001b[0m\u001b[1;33m[\u001b[0m\u001b[1;34m\"status\"\u001b[0m\u001b[1;33m]\u001b[0m\u001b[1;33m\u001b[0m\u001b[1;33m\u001b[0m\u001b[0m\n\u001b[0;32m    901\u001b[0m             \u001b[1;32mif\u001b[0m \u001b[0mstatus\u001b[0m \u001b[1;32mnot\u001b[0m \u001b[1;32min\u001b[0m \u001b[0mSTATUS_STRINGS\u001b[0m\u001b[1;33m:\u001b[0m\u001b[1;33m\u001b[0m\u001b[1;33m\u001b[0m\u001b[0m\n",
      "\u001b[1;31mValueError\u001b[0m: dictionary update sequence element #0 has length 1; 2 is required"
     ]
    }
   ],
   "source": [
    "N_HYPEROPT_PROBES = 10\n",
    "HYPEROPT_ALGO = tpe.suggest \n",
    "\n",
    "def get_xgb_params(space):\n",
    "    xgb_params = dict()\n",
    "    xgb_params['booster'] = 'gbtree'\n",
    "    xgb_params['eval_metric'] = 'rmse'\n",
    "    xgb_params['seed'] = 0\n",
    "    xgb_params['gamma'] = space['gamma']\n",
    "    xgb_params['min_child_weight'] = space['min_child_weight']\n",
    "    xgb_params['max_depth'] = int(space['max_depth'])\n",
    "    xgb_params['lambda'] = space['lambda']\n",
    "    xgb_params['subsample'] = space['subsample']\n",
    "    xgb_params['colsample_bytree'] = space['colsample_bylevel']\n",
    "    return xgb_params\n",
    "\n",
    "space = {\n",
    "    'gamma': hp.uniform('gamma', 0, 0.5),\n",
    "    'min_child_weight':hp.quniform('min_child_weight',0, 2, 1),\n",
    "    'max_depth': hp.uniform('max_depth',0,10),\n",
    "    'lambda': hp.uniform('lambda',0,20),\n",
    "    'subsample':hp.uniform('subsample',0,1),\n",
    "    'colsample_bytree':hp.uniform('colsample_bytree',0,1),\n",
    "    'colsample_bylevel':hp.uniform('colsample_bylevel',0,1),\n",
    "    'eta': hp.uniform('eta',0,1)\n",
    "}\n",
    "\n",
    "X_train = pd.read_csv('C:/Users/Boniface/Desktop/房租预测/datasets/cluster_train.csv')\n",
    "Y_train = X_train.pop('tradeMoney')\n",
    "X_train.pop('Unnamed: 0')\n",
    "\n",
    "def RUN(space):\n",
    "    xgb_params = get_xgb_params(space)\n",
    "    Train = xgb.DMatrix(X_train, label=Y_train)\n",
    "    model_xgb = xgb.train(xgb_params, Train, num_boost_round=1000)\n",
    "    return 'OK'\n",
    "    \n",
    "trials = Trials()\n",
    "best = hyperopt.fmin(fn=RUN,\n",
    "                     space=space,\n",
    "                     algo=HYPEROPT_ALGO,\n",
    "                     max_evals=N_HYPEROPT_PROBES,\n",
    "                     trials=trials,\n",
    "                     verbose=1)\n",
    "print('-'*50)\n",
    "print('The best params:')\n",
    "print( best )\n",
    "print('\\n\\n')"
   ]
  },
  {
   "cell_type": "code",
   "execution_count": null,
   "metadata": {},
   "outputs": [],
   "source": []
  }
 ],
 "metadata": {
  "kernelspec": {
   "display_name": "Python 3",
   "language": "python",
   "name": "python3"
  },
  "language_info": {
   "codemirror_mode": {
    "name": "ipython",
    "version": 3
   },
   "file_extension": ".py",
   "mimetype": "text/x-python",
   "name": "python",
   "nbconvert_exporter": "python",
   "pygments_lexer": "ipython3",
   "version": "3.7.4"
  }
 },
 "nbformat": 4,
 "nbformat_minor": 2
}
