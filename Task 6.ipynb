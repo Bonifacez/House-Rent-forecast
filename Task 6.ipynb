{
 "cells": [
  {
   "cell_type": "markdown",
   "metadata": {},
   "source": [
    "### 关键技术"
   ]
  },
  {
   "cell_type": "markdown",
   "metadata": {},
   "source": [
    "数据清洗：\n",
    "    将数据清洗为理想的分布情况，特别使用了深度清洗，清除了奇异值\n",
    "    采用数据可视化的方式以及盒型图，观察数据分布。\n",
    "\n",
    "特征工程：\n",
    "    采用了聚类、log平滑，使特征进一步增多，数据变得更加平滑，加快收敛速度。\n",
    "    使用Lasso回归，来作为判别模型。\n",
    "        使用相关系数法、Warpper、Embedded、Ensembel(随机森林)\n",
    "        再使用题目要求的判别函数。结合自己分割的验证集和测试集，选择最佳的特征。\n",
    "\n",
    "模型：\n",
    "    使用了LightGBM XGBoost CatBoost三种模型 \n",
    "\n",
    "模型融合：Esemble\n",
    "    使用了甲醛融合、blending、stacking"
   ]
  },
  {
   "cell_type": "markdown",
   "metadata": {},
   "source": [
    "总结：\n",
    "\n",
    "数据可视化\n",
    "\n",
    "数据分布\n",
    "\n",
    "LabelEncoder、OneHotEncoder\n",
    "\n",
    "Hyperopt\n",
    "\n",
    "LighGBM\n",
    "\n",
    "XGBoost\n",
    "\n",
    "CatBoost\n",
    "\n",
    "Blending\n",
    "\n",
    "Stacking\n",
    "\n",
    "难点：特征工程"
   ]
  }
 ],
 "metadata": {
  "kernelspec": {
   "display_name": "Python 3",
   "language": "python",
   "name": "python3"
  },
  "language_info": {
   "codemirror_mode": {
    "name": "ipython",
    "version": 3
   },
   "file_extension": ".py",
   "mimetype": "text/x-python",
   "name": "python",
   "nbconvert_exporter": "python",
   "pygments_lexer": "ipython3",
   "version": "3.7.4"
  }
 },
 "nbformat": 4,
 "nbformat_minor": 2
}
