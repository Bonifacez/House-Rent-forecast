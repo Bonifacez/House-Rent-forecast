{
 "cells": [
  {
   "cell_type": "code",
   "execution_count": 1,
   "metadata": {},
   "outputs": [],
   "source": [
    "import lightgbm as lgb\n",
    "import sklearn\n",
    "import numpy\n",
    "import hyperopt\n",
    "from hyperopt import hp, fmin, tpe, STATUS_OK, Trials\n",
    "import colorama\n",
    "import numpy as np\n",
    "from sklearn.model_selection import KFold\n",
    "import pandas as pd\n",
    "from sklearn.metrics import r2_score"
   ]
  },
  {
   "cell_type": "code",
   "execution_count": 2,
   "metadata": {},
   "outputs": [],
   "source": [
    "def get_lgb_params(space):\n",
    "    lgb_params = dict()\n",
    "    lgb_params['boosting_type'] = space['boosting_type'] if 'boosting_type' in space else 'gbdt'\n",
    "    lgb_params['objective'] = 'regression'\n",
    "    lgb_params['metric'] = 'rmse'\n",
    "    lgb_params['learning_rate'] = space['learning_rate']\n",
    "    lgb_params['num_leaves'] = int(space['num_leaves'])\n",
    "    lgb_params['min_data_in_leaf'] = int(space['min_data_in_leaf'])\n",
    "    lgb_params['min_sum_hessian_in_leaf'] = space['min_sum_hessian_in_leaf']\n",
    "    lgb_params['max_depth'] = -1\n",
    "    lgb_params['lambda_l1'] = space['lambda_l1'] if 'lambda_l1' in space else 0.0\n",
    "    lgb_params['lambda_l2'] = space['lambda_l2'] if 'lambda_l2' in space else 0.0\n",
    "    lgb_params['max_bin'] = int(space['max_bin']) if 'max_bin' in space else 256\n",
    "    lgb_params['feature_fraction'] = space['feature_fraction']\n",
    "    lgb_params['bagging_fraction'] = space['bagging_fraction']\n",
    "    lgb_params['bagging_freq'] = int(space['bagging_freq']) if 'bagging_freq' in space else 1\n",
    "    lgb_params['nthread'] = 4\n",
    "    return lgb_params"
   ]
  },
  {
   "cell_type": "code",
   "execution_count": 3,
   "metadata": {},
   "outputs": [],
   "source": [
    "lgb_best_params_space = {'bagging_fraction': 0.7767407798955681, 'bagging_freq': 1.0, 'feature_fraction': 0.8777729558158374, 'lambda_l1': 5.345467708327675, 'lambda_l2': 5.553820084786194, 'learning_rate': 0.006729207978658059, 'max_bin': 189.0, 'min_data_in_leaf': 27.0, 'min_sum_hessian_in_leaf': 3.9732496490135323, 'num_leaves': 41.0}\n",
    "\n",
    "params = get_lgb_params(lgb_best_params_space)"
   ]
  },
  {
   "cell_type": "code",
   "execution_count": 7,
   "metadata": {
    "scrolled": true
   },
   "outputs": [
    {
     "name": "stdout",
     "output_type": "stream",
     "text": [
      "fold 0\n"
     ]
    },
    {
     "name": "stderr",
     "output_type": "stream",
     "text": [
      "D:\\Anaconda3\\lib\\site-packages\\lightgbm\\basic.py:1291: UserWarning: Using categorical_feature in Dataset.\n",
      "  warnings.warn('Using categorical_feature in Dataset.')\n"
     ]
    },
    {
     "name": "stdout",
     "output_type": "stream",
     "text": [
      "Training until validation scores don't improve for 200 rounds\n",
      "[500]\ttraining's rmse: 785.454\tvalid_1's rmse: 824.023\n",
      "[1000]\ttraining's rmse: 682.661\tvalid_1's rmse: 757.639\n",
      "[1500]\ttraining's rmse: 632.226\tvalid_1's rmse: 737.01\n",
      "[2000]\ttraining's rmse: 595.882\tvalid_1's rmse: 726.618\n",
      "[2500]\ttraining's rmse: 567.448\tvalid_1's rmse: 719.996\n",
      "[3000]\ttraining's rmse: 544.024\tvalid_1's rmse: 716.165\n",
      "[3500]\ttraining's rmse: 523.791\tvalid_1's rmse: 713.45\n",
      "[4000]\ttraining's rmse: 506.036\tvalid_1's rmse: 711.746\n",
      "[4500]\ttraining's rmse: 490.114\tvalid_1's rmse: 710.403\n",
      "[5000]\ttraining's rmse: 475.724\tvalid_1's rmse: 709.267\n",
      "[5500]\ttraining's rmse: 462.698\tvalid_1's rmse: 708.368\n",
      "[6000]\ttraining's rmse: 450.501\tvalid_1's rmse: 707.809\n",
      "[6500]\ttraining's rmse: 439.086\tvalid_1's rmse: 707.477\n",
      "[7000]\ttraining's rmse: 428.426\tvalid_1's rmse: 707.252\n",
      "Early stopping, best iteration is:\n",
      "[6951]\ttraining's rmse: 429.459\tvalid_1's rmse: 707.234\n",
      "fold 1\n"
     ]
    },
    {
     "name": "stderr",
     "output_type": "stream",
     "text": [
      "D:\\Anaconda3\\lib\\site-packages\\lightgbm\\basic.py:1291: UserWarning: Using categorical_feature in Dataset.\n",
      "  warnings.warn('Using categorical_feature in Dataset.')\n"
     ]
    },
    {
     "name": "stdout",
     "output_type": "stream",
     "text": [
      "Training until validation scores don't improve for 200 rounds\n",
      "[500]\ttraining's rmse: 781.5\tvalid_1's rmse: 841.428\n",
      "[1000]\ttraining's rmse: 677.854\tvalid_1's rmse: 774.497\n",
      "[1500]\ttraining's rmse: 627.771\tvalid_1's rmse: 753.789\n",
      "[2000]\ttraining's rmse: 592.021\tvalid_1's rmse: 741.267\n",
      "[2500]\ttraining's rmse: 563.777\tvalid_1's rmse: 733.185\n",
      "[3000]\ttraining's rmse: 540.433\tvalid_1's rmse: 728.038\n",
      "[3500]\ttraining's rmse: 520.46\tvalid_1's rmse: 724.248\n",
      "[4000]\ttraining's rmse: 502.75\tvalid_1's rmse: 721.205\n",
      "[4500]\ttraining's rmse: 487.079\tvalid_1's rmse: 719.257\n",
      "[5000]\ttraining's rmse: 472.773\tvalid_1's rmse: 717.89\n",
      "[5500]\ttraining's rmse: 459.46\tvalid_1's rmse: 716.765\n",
      "[6000]\ttraining's rmse: 447.194\tvalid_1's rmse: 715.741\n",
      "[6500]\ttraining's rmse: 435.841\tvalid_1's rmse: 715.141\n",
      "[7000]\ttraining's rmse: 425.3\tvalid_1's rmse: 714.428\n",
      "[7500]\ttraining's rmse: 415.322\tvalid_1's rmse: 714.002\n",
      "[8000]\ttraining's rmse: 405.922\tvalid_1's rmse: 713.766\n",
      "[8500]\ttraining's rmse: 396.961\tvalid_1's rmse: 713.586\n",
      "Early stopping, best iteration is:\n",
      "[8404]\ttraining's rmse: 398.657\tvalid_1's rmse: 713.54\n",
      "fold 2\n"
     ]
    },
    {
     "name": "stderr",
     "output_type": "stream",
     "text": [
      "D:\\Anaconda3\\lib\\site-packages\\lightgbm\\basic.py:1291: UserWarning: Using categorical_feature in Dataset.\n",
      "  warnings.warn('Using categorical_feature in Dataset.')\n"
     ]
    },
    {
     "name": "stdout",
     "output_type": "stream",
     "text": [
      "Training until validation scores don't improve for 200 rounds\n",
      "[500]\ttraining's rmse: 783.884\tvalid_1's rmse: 842\n",
      "[1000]\ttraining's rmse: 678.939\tvalid_1's rmse: 774.828\n",
      "[1500]\ttraining's rmse: 627.667\tvalid_1's rmse: 754.273\n",
      "[2000]\ttraining's rmse: 591.672\tvalid_1's rmse: 743.41\n",
      "[2500]\ttraining's rmse: 563.56\tvalid_1's rmse: 736.722\n",
      "[3000]\ttraining's rmse: 540.28\tvalid_1's rmse: 732.603\n",
      "[3500]\ttraining's rmse: 520.46\tvalid_1's rmse: 729.942\n",
      "[4000]\ttraining's rmse: 502.893\tvalid_1's rmse: 728.499\n",
      "[4500]\ttraining's rmse: 487.207\tvalid_1's rmse: 727.283\n",
      "[5000]\ttraining's rmse: 472.91\tvalid_1's rmse: 726.293\n",
      "[5500]\ttraining's rmse: 459.975\tvalid_1's rmse: 725.675\n",
      "[6000]\ttraining's rmse: 447.83\tvalid_1's rmse: 725.282\n",
      "[6500]\ttraining's rmse: 436.619\tvalid_1's rmse: 724.855\n",
      "Early stopping, best iteration is:\n",
      "[6548]\ttraining's rmse: 435.598\tvalid_1's rmse: 724.782\n",
      "fold 3\n"
     ]
    },
    {
     "name": "stderr",
     "output_type": "stream",
     "text": [
      "D:\\Anaconda3\\lib\\site-packages\\lightgbm\\basic.py:1291: UserWarning: Using categorical_feature in Dataset.\n",
      "  warnings.warn('Using categorical_feature in Dataset.')\n"
     ]
    },
    {
     "name": "stdout",
     "output_type": "stream",
     "text": [
      "Training until validation scores don't improve for 200 rounds\n",
      "[500]\ttraining's rmse: 777.448\tvalid_1's rmse: 860.033\n",
      "[1000]\ttraining's rmse: 672.558\tvalid_1's rmse: 796.204\n",
      "[1500]\ttraining's rmse: 622.031\tvalid_1's rmse: 775.388\n",
      "[2000]\ttraining's rmse: 586.491\tvalid_1's rmse: 763.828\n",
      "[2500]\ttraining's rmse: 558.364\tvalid_1's rmse: 757.343\n",
      "[3000]\ttraining's rmse: 535.037\tvalid_1's rmse: 753.026\n",
      "[3500]\ttraining's rmse: 515.089\tvalid_1's rmse: 750.176\n",
      "[4000]\ttraining's rmse: 497.604\tvalid_1's rmse: 748.121\n",
      "[4500]\ttraining's rmse: 482.013\tvalid_1's rmse: 746.684\n",
      "[5000]\ttraining's rmse: 467.784\tvalid_1's rmse: 745.789\n",
      "[5500]\ttraining's rmse: 454.67\tvalid_1's rmse: 745.153\n",
      "[6000]\ttraining's rmse: 442.61\tvalid_1's rmse: 744.776\n",
      "[6500]\ttraining's rmse: 431.293\tvalid_1's rmse: 744.355\n",
      "Early stopping, best iteration is:\n",
      "[6503]\ttraining's rmse: 431.239\tvalid_1's rmse: 744.342\n",
      "fold 4\n"
     ]
    },
    {
     "name": "stderr",
     "output_type": "stream",
     "text": [
      "D:\\Anaconda3\\lib\\site-packages\\lightgbm\\basic.py:1291: UserWarning: Using categorical_feature in Dataset.\n",
      "  warnings.warn('Using categorical_feature in Dataset.')\n"
     ]
    },
    {
     "name": "stdout",
     "output_type": "stream",
     "text": [
      "Training until validation scores don't improve for 200 rounds\n",
      "[500]\ttraining's rmse: 784.33\tvalid_1's rmse: 825.399\n",
      "[1000]\ttraining's rmse: 680.633\tvalid_1's rmse: 759.321\n",
      "[1500]\ttraining's rmse: 629.705\tvalid_1's rmse: 741.074\n",
      "[2000]\ttraining's rmse: 593.533\tvalid_1's rmse: 731.246\n",
      "[2500]\ttraining's rmse: 565.378\tvalid_1's rmse: 725.399\n",
      "[3000]\ttraining's rmse: 542.178\tvalid_1's rmse: 721.704\n",
      "[3500]\ttraining's rmse: 522.259\tvalid_1's rmse: 719.075\n",
      "[4000]\ttraining's rmse: 504.721\tvalid_1's rmse: 717.443\n",
      "[4500]\ttraining's rmse: 488.988\tvalid_1's rmse: 716.172\n",
      "[5000]\ttraining's rmse: 474.641\tvalid_1's rmse: 715.034\n",
      "[5500]\ttraining's rmse: 461.521\tvalid_1's rmse: 714.42\n",
      "Early stopping, best iteration is:\n",
      "[5521]\ttraining's rmse: 461.007\tvalid_1's rmse: 714.321\n",
      "r2 score0.9121685465571714\n",
      "r2:0.908676496578698\n"
     ]
    }
   ],
   "source": [
    "folds = KFold(n_splits=5, shuffle=True, random_state=0)\n",
    "\n",
    "test = pd.read_csv('C:/Users/Boniface/Desktop/房租预测/datasets/cluster_test.csv')\n",
    "test.pop('Unnamed: 0')\n",
    "test.pop('tradeMoney')\n",
    "\n",
    "categorical_feats = ['rentType', 'houseFloor', 'houseToward', 'houseDecoration',  'region', 'plate','cluster']\n",
    "feature = pd.read_csv('C:/Users/Boniface/Desktop/房租预测/datasets/cluster_train.csv')\n",
    "label = feature.pop('tradeMoney')\n",
    "feature.pop('Unnamed: 0')\n",
    "\n",
    "# 1\n",
    "y_pre_list = []\n",
    "r2_list = []\n",
    "train_feat = pd.Series()\n",
    "for fold_, (trn_idx, val_idx) in enumerate(folds.split(feature.values, label)):\n",
    "    print(\"fold {}\".format(fold_))\n",
    "    trn_data = lgb.Dataset(feature.iloc[trn_idx], label = label[trn_idx], categorical_feature=categorical_feats)\n",
    "    val_data = lgb.Dataset(feature.iloc[val_idx], label = label[val_idx], categorical_feature=categorical_feats)\n",
    "\n",
    "    num_round = 10000\n",
    "    clf = lgb.train(params, trn_data, num_round,valid_sets=[trn_data, val_data], verbose_eval=500,\n",
    "                    early_stopping_rounds=200)\n",
    "    y_pre = clf.predict(feature.iloc[val_idx], num_iteration=clf.best_iteration)\n",
    "    r2 = r2_score(y_pre,label[val_idx])\n",
    "    r2_list.append(r2)\n",
    "    train_feat = train_feat.append(pd.Series(y_pre,index=val_idx))\n",
    "    y_pre_test = clf.predict(test,num_iteration=clf.best_iteration)\n",
    "    y_pre_list.append(y_pre_test)\n",
    "print('r2 score{:}'.format(r2))\n",
    "print('r2:{:}'.format(np.mean(r2_list)))\n",
    "\n",
    "y_pred_final=  (y_pre_list[0]+y_pre_list[1]+y_pre_list[2]+y_pre_list[3]+y_pre_list[4])/5\n",
    "feature['pre'] = train_feat\n",
    "test['pre'] = y_pred_final"
   ]
  },
  {
   "cell_type": "code",
   "execution_count": 9,
   "metadata": {},
   "outputs": [
    {
     "name": "stdout",
     "output_type": "stream",
     "text": [
      "fold 0\n"
     ]
    },
    {
     "name": "stderr",
     "output_type": "stream",
     "text": [
      "D:\\Anaconda3\\lib\\site-packages\\lightgbm\\basic.py:1291: UserWarning: Using categorical_feature in Dataset.\n",
      "  warnings.warn('Using categorical_feature in Dataset.')\n"
     ]
    },
    {
     "name": "stdout",
     "output_type": "stream",
     "text": [
      "Training until validation scores don't improve for 200 rounds\n",
      "[500]\ttraining's rmse: 686.507\tvalid_1's rmse: 731.981\n",
      "Early stopping, best iteration is:\n",
      "[572]\ttraining's rmse: 673.768\tvalid_1's rmse: 730.545\n",
      "fold 1\n"
     ]
    },
    {
     "name": "stderr",
     "output_type": "stream",
     "text": [
      "D:\\Anaconda3\\lib\\site-packages\\lightgbm\\basic.py:1291: UserWarning: Using categorical_feature in Dataset.\n",
      "  warnings.warn('Using categorical_feature in Dataset.')\n"
     ]
    },
    {
     "name": "stdout",
     "output_type": "stream",
     "text": [
      "Training until validation scores don't improve for 200 rounds\n",
      "[500]\ttraining's rmse: 683.071\tvalid_1's rmse: 739.317\n",
      "Early stopping, best iteration is:\n",
      "[581]\ttraining's rmse: 669.049\tvalid_1's rmse: 737.369\n",
      "fold 2\n"
     ]
    },
    {
     "name": "stderr",
     "output_type": "stream",
     "text": [
      "D:\\Anaconda3\\lib\\site-packages\\lightgbm\\basic.py:1291: UserWarning: Using categorical_feature in Dataset.\n",
      "  warnings.warn('Using categorical_feature in Dataset.')\n"
     ]
    },
    {
     "name": "stdout",
     "output_type": "stream",
     "text": [
      "Training until validation scores don't improve for 200 rounds\n",
      "[500]\ttraining's rmse: 682.805\tvalid_1's rmse: 744.122\n",
      "Early stopping, best iteration is:\n",
      "[610]\ttraining's rmse: 664.909\tvalid_1's rmse: 742.36\n",
      "fold 3\n"
     ]
    },
    {
     "name": "stderr",
     "output_type": "stream",
     "text": [
      "D:\\Anaconda3\\lib\\site-packages\\lightgbm\\basic.py:1291: UserWarning: Using categorical_feature in Dataset.\n",
      "  warnings.warn('Using categorical_feature in Dataset.')\n"
     ]
    },
    {
     "name": "stdout",
     "output_type": "stream",
     "text": [
      "Training until validation scores don't improve for 200 rounds\n",
      "[500]\ttraining's rmse: 676.652\tvalid_1's rmse: 763.548\n",
      "Early stopping, best iteration is:\n",
      "[528]\ttraining's rmse: 671.245\tvalid_1's rmse: 763.391\n",
      "fold 4\n"
     ]
    },
    {
     "name": "stderr",
     "output_type": "stream",
     "text": [
      "D:\\Anaconda3\\lib\\site-packages\\lightgbm\\basic.py:1291: UserWarning: Using categorical_feature in Dataset.\n",
      "  warnings.warn('Using categorical_feature in Dataset.')\n"
     ]
    },
    {
     "name": "stdout",
     "output_type": "stream",
     "text": [
      "Training until validation scores don't improve for 200 rounds\n",
      "[500]\ttraining's rmse: 684.578\tvalid_1's rmse: 739.807\n",
      "Early stopping, best iteration is:\n",
      "[607]\ttraining's rmse: 667.178\tvalid_1's rmse: 736.915\n",
      "r2 score0.9019336711167829\n",
      "r2:0.8984746729841946\n"
     ]
    }
   ],
   "source": [
    "# 2\n",
    "y_pre_list = []\n",
    "r2_list = []\n",
    "train_feat = pd.Series()\n",
    "for fold_, (trn_idx, val_idx) in enumerate(folds.split(feature.values, label)):\n",
    "    print(\"fold {}\".format(fold_))\n",
    "    trn_data = lgb.Dataset(feature.iloc[trn_idx], label[trn_idx], categorical_feature=categorical_feats)\n",
    "    val_data = lgb.Dataset(feature.iloc[val_idx], label[val_idx], categorical_feature=categorical_feats)\n",
    "\n",
    "    num_round = 10000\n",
    "    clf = lgb.train(params, trn_data, num_round, #feval=get_r2_metric,\n",
    "                    valid_sets=[trn_data, val_data], verbose_eval=500,\n",
    "                    early_stopping_rounds=200)\n",
    "    y_pre = clf.predict(feature.iloc[val_idx], num_iteration=clf.best_iteration)\n",
    "    r2 = r2_score(y_pre,label[val_idx])\n",
    "    r2_list.append(r2)\n",
    "    train_feat = train_feat.append(pd.Series(y_pre,index=val_idx))\n",
    "    y_pre_test = clf.predict(test,num_iteration=clf.best_iteration)\n",
    "    y_pre_list.append(y_pre_test)\n",
    "print('r2 score{:}'.format(r2))\n",
    "print('r2:{:}'.format(np.mean(r2_list)))\n",
    "    \n",
    "y_pred_final=  (y_pre_list[0]+y_pre_list[1]+y_pre_list[2]+y_pre_list[3]+y_pre_list[4])/5\n",
    "feature['pre_2'] = train_feat\n",
    "test['pre_2'] = y_pred_final"
   ]
  },
  {
   "cell_type": "code",
   "execution_count": 10,
   "metadata": {},
   "outputs": [
    {
     "name": "stdout",
     "output_type": "stream",
     "text": [
      "fold 0\n"
     ]
    },
    {
     "name": "stderr",
     "output_type": "stream",
     "text": [
      "D:\\Anaconda3\\lib\\site-packages\\lightgbm\\basic.py:1291: UserWarning: Using categorical_feature in Dataset.\n",
      "  warnings.warn('Using categorical_feature in Dataset.')\n"
     ]
    },
    {
     "name": "stdout",
     "output_type": "stream",
     "text": [
      "Training until validation scores don't improve for 200 rounds\n",
      "[500]\ttraining's rmse: 684.594\tvalid_1's rmse: 729.311\n",
      "Early stopping, best iteration is:\n",
      "[584]\ttraining's rmse: 669.959\tvalid_1's rmse: 727.389\n",
      "fold 1\n"
     ]
    },
    {
     "name": "stderr",
     "output_type": "stream",
     "text": [
      "D:\\Anaconda3\\lib\\site-packages\\lightgbm\\basic.py:1291: UserWarning: Using categorical_feature in Dataset.\n",
      "  warnings.warn('Using categorical_feature in Dataset.')\n"
     ]
    },
    {
     "name": "stdout",
     "output_type": "stream",
     "text": [
      "Training until validation scores don't improve for 200 rounds\n",
      "[500]\ttraining's rmse: 680.741\tvalid_1's rmse: 737.425\n",
      "Early stopping, best iteration is:\n",
      "[577]\ttraining's rmse: 667.178\tvalid_1's rmse: 735.73\n",
      "fold 2\n"
     ]
    },
    {
     "name": "stderr",
     "output_type": "stream",
     "text": [
      "D:\\Anaconda3\\lib\\site-packages\\lightgbm\\basic.py:1291: UserWarning: Using categorical_feature in Dataset.\n",
      "  warnings.warn('Using categorical_feature in Dataset.')\n"
     ]
    },
    {
     "name": "stdout",
     "output_type": "stream",
     "text": [
      "Training until validation scores don't improve for 200 rounds\n",
      "[500]\ttraining's rmse: 680.711\tvalid_1's rmse: 741.708\n",
      "Early stopping, best iteration is:\n",
      "[581]\ttraining's rmse: 666.733\tvalid_1's rmse: 740.359\n",
      "fold 3\n"
     ]
    },
    {
     "name": "stderr",
     "output_type": "stream",
     "text": [
      "D:\\Anaconda3\\lib\\site-packages\\lightgbm\\basic.py:1291: UserWarning: Using categorical_feature in Dataset.\n",
      "  warnings.warn('Using categorical_feature in Dataset.')\n"
     ]
    },
    {
     "name": "stdout",
     "output_type": "stream",
     "text": [
      "Training until validation scores don't improve for 200 rounds\n",
      "[500]\ttraining's rmse: 674.453\tvalid_1's rmse: 761.095\n",
      "Early stopping, best iteration is:\n",
      "[510]\ttraining's rmse: 672.398\tvalid_1's rmse: 760.971\n",
      "fold 4\n"
     ]
    },
    {
     "name": "stderr",
     "output_type": "stream",
     "text": [
      "D:\\Anaconda3\\lib\\site-packages\\lightgbm\\basic.py:1291: UserWarning: Using categorical_feature in Dataset.\n",
      "  warnings.warn('Using categorical_feature in Dataset.')\n"
     ]
    },
    {
     "name": "stdout",
     "output_type": "stream",
     "text": [
      "Training until validation scores don't improve for 200 rounds\n",
      "[500]\ttraining's rmse: 682.551\tvalid_1's rmse: 737.308\n",
      "Early stopping, best iteration is:\n",
      "[574]\ttraining's rmse: 669.826\tvalid_1's rmse: 734.858\n",
      "r2 score0.9018904241406162\n",
      "r2:0.8989908337107823\n"
     ]
    }
   ],
   "source": [
    "# 3\n",
    "y_pre_list = []\n",
    "r2_list = []\n",
    "train_feat = pd.Series()\n",
    "for fold_, (trn_idx, val_idx) in enumerate(folds.split(feature.values, label)):\n",
    "    print(\"fold {}\".format(fold_))\n",
    "    trn_data = lgb.Dataset(feature.iloc[trn_idx], label[trn_idx], categorical_feature=categorical_feats)\n",
    "    val_data = lgb.Dataset(feature.iloc[val_idx], label[val_idx], categorical_feature=categorical_feats)\n",
    "\n",
    "    num_round = 10000\n",
    "    clf = lgb.train(params, trn_data, num_round, #feval=get_r2_metric,\n",
    "                    valid_sets=[trn_data, val_data], verbose_eval=500,\n",
    "                    early_stopping_rounds=200)\n",
    "    y_pre = clf.predict(feature.iloc[val_idx], num_iteration=clf.best_iteration)\n",
    "    r2 = r2_score(y_pre,label[val_idx])\n",
    "    r2_list.append(r2)\n",
    "    train_feat = train_feat.append(pd.Series(y_pre,index=val_idx))\n",
    "    y_pre_test = clf.predict(test,num_iteration=clf.best_iteration)\n",
    "    y_pre_list.append(y_pre_test)\n",
    "print('r2 score{:}'.format(r2))\n",
    "print('r2:{:}'.format(np.mean(r2_list)))\n",
    "    \n",
    "y_pred_final=  (y_pre_list[0]+y_pre_list[1]+y_pre_list[2]+y_pre_list[3]+y_pre_list[4])/5"
   ]
  },
  {
   "cell_type": "code",
   "execution_count": 11,
   "metadata": {},
   "outputs": [
    {
     "data": {
      "text/plain": [
       "array([4760.0218159 , 4722.31963732, 5954.12419982, ..., 5166.19662778,\n",
       "       5476.54079688, 3586.48503007])"
      ]
     },
     "execution_count": 11,
     "metadata": {},
     "output_type": "execute_result"
    }
   ],
   "source": [
    "y_pred_final"
   ]
  },
  {
   "cell_type": "code",
   "execution_count": 13,
   "metadata": {},
   "outputs": [],
   "source": [
    "pd.DataFrame(y_pred_final).to_csv(\"pre.csv\",header=None,index=None)"
   ]
  },
  {
   "cell_type": "code",
   "execution_count": 14,
   "metadata": {},
   "outputs": [
    {
     "name": "stdout",
     "output_type": "stream",
     "text": [
      "0.9894221610228148\n"
     ]
    }
   ],
   "source": [
    "judge = pd.read_csv('C:/Users/Boniface/Desktop/房租预测/datasets/评分文件/sub_a_913.csv')\n",
    "print(r2_score(judge, y_pred_final))"
   ]
  },
  {
   "cell_type": "code",
   "execution_count": null,
   "metadata": {},
   "outputs": [],
   "source": [
    "def blend(train,test,target):\n",
    "    '''5折'''\n",
    "    # n_flods = 5\n",
    "    # skf = list(StratifiedKFold(y, n_folds=n_flods))\n",
    "    '''切分训练数据集为d1,d2两部分'''\n",
    "    X_d1, X_d2, y_d1, y_d2 = train_test_split(train, target, test_size=0.5, random_state=914)\n",
    "\n",
    "    train_ = np.zeros((X_d2.shape[0],len(clfs*3)))\n",
    "    test_ = np.zeros((test.shape[0],len(clfs*3)))\n",
    "\n",
    "    for j,clf in enumerate(clfs):\n",
    "        '''依次训练各个单模型'''\n",
    "        # print(j, clf)\n",
    "        '''使用第1个部分作为预测，第2部分来训练模型，获得其预测的输出作为第2部分的新特征。'''\n",
    "        # X_train, y_train, X_test, y_test = X[train], y[train], X[test], y[test]\n",
    "        X_d1fillna=X_d1.fillna(0)\n",
    "        X_d2fillna = X_d2.fillna(0)\n",
    "\n",
    "        X_predictfillna= test.fillna(0)\n",
    "\n",
    "        clf.fit(X_d1fillna,y_d1)\n",
    "        y_submission = clf.predict(X_d2fillna)\n",
    "        y_test_submission = clf.predict(X_predictfillna)\n",
    "\n",
    "        train_[:,j*3] = y_submission*y_submission\n",
    "        '''对于测试集，直接用这k个模型的预测值作为新的特征。'''\n",
    "        test_[:, j*3] = y_test_submission*y_test_submission\n",
    "\n",
    "        train_[:, j+1] =(y_submission - y_submission.min()) /(y_submission.max() - y_submission.min())\n",
    "        '''对于测试集，直接用这k个模型的预测值作为新的特征。'''\n",
    "        y_test_submission = (y_test_submission - y_test_submission.min()) / \\\n",
    "                            (y_test_submission.max() - y_test_submission.min())\n",
    "        test_[:, j+1] = y_test_submission\n",
    "\n",
    "        train_[:, j+2] = np.log(y_submission)\n",
    "        '''对于测试集，直接用这k个模型的预测值作为新的特征。'''\n",
    "        y_test_submission =np.log(y_test_submission)\n",
    "        test_[:, j+2] = y_test_submission\n",
    "\n",
    "\n",
    "\n",
    "        # print(\"val auc Score: %f\" % r2_score(y_predict, dataset_d2[:, j]))\n",
    "        print('已完成第',j)\n",
    "\n",
    "    train_.to_csv('train_blending.csv', index=False)\n",
    "    test_.to_csv('test_blending.csv', index=False)\n"
   ]
  }
 ],
 "metadata": {
  "kernelspec": {
   "display_name": "Python 3",
   "language": "python",
   "name": "python3"
  },
  "language_info": {
   "codemirror_mode": {
    "name": "ipython",
    "version": 3
   },
   "file_extension": ".py",
   "mimetype": "text/x-python",
   "name": "python",
   "nbconvert_exporter": "python",
   "pygments_lexer": "ipython3",
   "version": "3.7.4"
  }
 },
 "nbformat": 4,
 "nbformat_minor": 2
}
